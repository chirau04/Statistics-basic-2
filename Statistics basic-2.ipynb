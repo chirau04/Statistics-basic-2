{
 "cells": [
  {
   "cell_type": "markdown",
   "id": "60b2d577-aca4-4130-9cb5-82288d8e559a",
   "metadata": {},
   "source": [
    "The three measures of central tendency are the mean, median, and mode. "
   ]
  },
  {
   "cell_type": "markdown",
   "id": "ebdd2f2e-01fb-483f-ab24-4f3b09e81062",
   "metadata": {},
   "source": [
    "The mean is the average of a set of numbers, calculated by adding up all the values and dividing by the total count of values. The median is the middle value in a dataset when the values are arranged in ascending or descending order. If there is an even number of values, the median is the average of the two middle values. The mode is the value that appears most frequently in the dataset.\n",
    "\n",
    "These measures are used to describe the central tendency of a dataset, indicating where most of the data points cluster. The mean is sensitive to extreme values, while the median is more robust to outliers. The mode represents the most common value in the dataset. Depending on the distribution of the data and the specific context, one or more of these measures may be used to summarize the central tendency of the dataset."
   ]
  },
  {
   "cell_type": "markdown",
   "id": "d4fc713d-8393-4247-aa1a-faf00622ed88",
   "metadata": {},
   "source": [
    "To calculate the three measures of central tendency (mean, median, and mode) for the given height data:\n",
    "\n",
    "1. Mean:\n",
    "   Add up all the values and divide by the total count of values:\n",
    "   (178 + 177 + 176 + 177 + 178.2 + 178 + 175 + 179 + 180 + 175 + 178.9 + 176.2 + 177 + 172.5 + 178 + 176.5) / 16 = 177.75\n",
    "\n",
    "2. Median:\n",
    "   Arrange the values in ascending order:\n",
    "   172.5, 175, 175, 176, 176, 176.2, 176.5, 177, 177, 177, 178, 178, 178, 178.2, 178.9, 179, 180\n",
    "   Since there are 16 values, the median is the average of the 8th and 9th values: (177 + 177) / 2 = 177\n",
    "\n",
    "3. Mode:\n",
    "   Identify the value(s) that appear most frequently:\n",
    "   The value 178 appears 4 times, making it the mode.\n",
    "\n",
    "So, for the given height data:\n",
    "- Mean = 177.75\n",
    "- Median = 177\n",
    "- Mode = 178"
   ]
  },
  {
   "cell_type": "markdown",
   "id": "94b5dd3b-e9d9-4523-afe4-85b5e5c4c497",
   "metadata": {},
   "source": [
    "To find the standard deviation for the given data, we'll follow these steps:\n",
    "\n",
    "1. Calculate the mean.\n",
    "2. Find the squared difference between each data point and the mean.\n",
    "3. Calculate the mean of those squared differences.\n",
    "4. Take the square root of the mean of squared differences.\n",
    "\n",
    "Let's do the calculations:\n",
    "\n",
    "1. Calculate the mean:\n",
    "\\[ \\text{Mean} = \\frac{178 + 177 + 176 + 177 + 178.2 + 178 + 175 + 179 + 180 + 175 + 178.9 + 176.2 + 177 + 172.5 + 178 + 176.5}{16} \\]\n",
    "\\[ \\text{Mean} = \\frac{2828.3}{16} = 177.76875 \\]\n",
    "\n",
    "2. Find the squared difference between each data point and the mean:\n",
    "\\[ (178 - 177.76875)^2 = 0.05140625 \\]\n",
    "\\[ (177 - 177.76875)^2 = 0.59765625 \\]\n",
    "\\[ (176 - 177.76875)^2 = 3.14140625 \\]\n",
    "\\[ (177 - 177.76875)^2 = 0.59765625 \\]\n",
    "\\[ (178.2 - 177.76875)^2 = 0.18515625 \\]\n",
    "\\[ (178 - 177.76875)^2 = 0.05140625 \\]\n",
    "\\[ (175 - 177.76875)^2 = 7.58265625 \\]\n",
    "\\[ (179 - 177.76875)^2 = 1.51140625 \\]\n",
    "\\[ (180 - 177.76875)^2 = 5.08640625 \\]\n",
    "\\[ (175 - 177.76875)^2 = 7.58265625 \\]\n",
    "\\[ (178.9 - 177.76875)^2 = 1.27390625 \\]\n",
    "\\[ (176.2 - 177.76875)^2 = 2.47890625 \\]\n",
    "\\[ (177 - 177.76875)^2 = 0.59765625 \\]\n",
    "\\[ (172.5 - 177.76875)^2 = 28.03765625 \\]\n",
    "\\[ (178 - 177.76875)^2 = 0.05140625 \\]\n",
    "\\[ (176.5 - 177.76875)^2 = 1.61640625 \\]\n",
    "\n",
    "3. Calculate the mean of those squared differences:\n",
    "\\[ \\text{Mean of Squared Differences} = \\frac{0.05140625 + 0.59765625 + 3.14140625 + \\ldots + 1.61640625}{16} \\]\n",
    "\\[ \\text{Mean of Squared Differences} = \\frac{70.215}{16} = 4.3884375 \\]\n",
    "\n",
    "4. Take the square root of the mean of squared differences:\n",
    "\\[ \\text{Standard Deviation} = \\sqrt{4.3884375} \\approx 2.093 \\]\n",
    "\n",
    "So, the standard deviation for the given data is approximately \\(2.093\\)."
   ]
  },
  {
   "cell_type": "markdown",
   "id": "30e1ac20-6c53-4a45-a519-b38775a85b09",
   "metadata": {},
   "source": [
    "Measures of dispersion, such as range, variance, and standard deviation, provide insights into the spread or variability of data points within a dataset. Here's how each of them is used along with an example:\n",
    "\n",
    "1. Range: The range is the simplest measure of dispersion and is calculated by subtracting the minimum value from the maximum value in the dataset. It gives a rough idea of how spread out the data is.\n",
    "   \n",
    "   Example: Consider a dataset of test scores in a class: {65, 72, 78, 84, 90}. The range would be 90 - 65 = 25, indicating that the scores vary by 25 points.\n",
    "\n",
    "2. Variance: Variance measures how much the data points in a dataset differ from the mean (average) of the dataset. It's calculated by averaging the squared differences from the mean.\n",
    "   \n",
    "   Example: Using the same dataset of test scores, let's calculate the variance. First, find the mean: (65 + 72 + 78 + 84 + 90) / 5 = 77.8. Then, calculate the squared differences from the mean: (65 - 77.8)^2, (72 - 77.8)^2, etc. After averaging these squared differences, you'll get the variance.\n",
    "\n",
    "3. Standard Deviation: Standard deviation is the square root of the variance. It provides a measure of how much the data points deviate from the mean.\n",
    "   \n",
    "   Example: Continuing with the test scores dataset, if the variance is calculated to be, say, 50, then the standard deviation would be the square root of 50, which is approximately 7.07. This means that, on average, the test scores deviate from the mean by about 7.07 points.\n",
    "\n",
    "In summary, while the range gives a basic understanding of how spread out the data is, variance and standard deviation provide more precise measures by considering how each data point differs from the mean, allowing for a deeper understanding of the dataset's variability."
   ]
  },
  {
   "cell_type": "markdown",
   "id": "29168c3a-3c02-44ac-9ddf-2298e0478b40",
   "metadata": {},
   "source": [
    "A Venn diagram is a graphical representation of the relationships between different sets of items. It consists of overlapping circles or other shapes, each representing a set, and the overlapping areas represent the intersections between the sets. Venn diagrams are commonly used to illustrate logical relationships between various entities, such as similarities and differences.\n",
    "\n",
    "For example, consider two sets: Set A, representing all mammals, and Set B, representing all animals with four legs. The overlapping area of the circles would represent mammals with four legs, illustrating the intersection between the two sets.\n",
    "\n",
    "Venn diagrams are useful for visualizing concepts in fields such as mathematics, logic, statistics, and computer science, aiding in problem-solving and comprehension of relationships between different categories or groups."
   ]
  },
  {
   "cell_type": "markdown",
   "id": "9108d19e-b628-425f-9eef-e83046e4c15f",
   "metadata": {},
   "source": [
    "To find the intersection and union of sets A and B, we need to identify the elements that are common to both sets (intersection) and combine all unique elements from both sets (union).\n",
    "\n",
    "Given:\n",
    "Set A: {2, 3, 4, 5, 6, 7}\n",
    "Set B: {0, 2, 6, 8, 10}\n",
    "\n",
    "1. Intersection (A ∩ B): This represents the elements that are common to both sets.\n",
    "   Elements common to both sets A and B are 2 and 6.\n",
    "   So, A ∩ B = {2, 6}.\n",
    "\n",
    "2. Union (A ∪ B): This represents all unique elements from both sets combined.\n",
    "   Combining all elements from sets A and B without duplicates:\n",
    "   A ∪ B = {0, 2, 3, 4, 5, 6, 7, 8, 10}.\n",
    "\n",
    "So, the results are:\n",
    "- A ∩ B = {2, 6} (intersection)\n",
    "- A ∪ B = {0, 2, 3, 4, 5, 6, 7, 8, 10} (union)"
   ]
  },
  {
   "cell_type": "markdown",
   "id": "3ca663c1-0c30-412d-80b1-de9f35e89333",
   "metadata": {},
   "source": [
    "Skewness in data refers to the lack of symmetry in its distribution. It indicates the degree and direction of asymmetry in a dataset's distribution. In a symmetric distribution, the data is evenly distributed around the mean, with equal proportions on both sides. However, in skewed distributions, the data clusters more towards one side of the mean than the other.\n",
    "\n",
    "There are three types of skewness:\n",
    "\n",
    "1. Positive skewness (right-skewed): The tail of the distribution extends more to the right side of the data (higher values) than to the left. The mean is typically greater than the median, and the mode is often the smallest value. This skewness is also known as right-skewed because the long tail points to the right.\n",
    "\n",
    "2. Negative skewness (left-skewed): The tail of the distribution extends more to the left side of the data (lower values) than to the right. The mean is typically less than the median, and the mode is often the largest value. This skewness is also known as left-skewed because the long tail points to the left.\n",
    "\n",
    "3. Zero skewness: In a perfectly symmetric distribution, the mean, median, and mode are all equal, and the distribution has zero skewness.\n",
    "\n",
    "Understanding skewness is crucial for interpreting and analyzing data accurately, as it can affect various statistical analyses and models. Identifying skewness helps in selecting appropriate data transformation techniques or choosing suitable statistical methods to handle the data effectively."
   ]
  },
  {
   "cell_type": "markdown",
   "id": "a1ebf502-2672-422f-a8de-e34b9916be07",
   "metadata": {},
   "source": [
    "If a dataset is right-skewed (positively skewed), it means that the tail of the distribution extends more towards the higher values, or the right side of the data. In such a scenario:\n",
    "\n",
    "1. The median will be less than the mean.\n",
    "2. The median will be closer to the lower end of the dataset compared to the mean.\n",
    "3. The median will be closer to the 1st quartile (Q1) than to the 3rd quartile (Q3).\n",
    "4. The median will be located to the left of the midpoint of the dataset.\n",
    "\n",
    "In summary, in a right-skewed distribution, the median will be positioned to the left of the midpoint of the dataset."
   ]
  },
  {
   "cell_type": "markdown",
   "id": "6744ef4e-2169-45a5-a2a8-10beb7ad7a44",
   "metadata": {},
   "source": [
    "Covariance and correlation are both measures used to quantify the relationship between two variables in a dataset, but they differ in their interpretation and scale:\n",
    "\n",
    "1. Covariance:\n",
    "   - Covariance measures the extent to which two variables change together. It indicates the direction of the linear relationship between variables (positive, negative, or no relationship).\n",
    "   - It is not standardized, meaning its value is sensitive to changes in the scale of the variables. Therefore, it's challenging to compare covariances between different pairs of variables.\n",
    "   - Covariance can take any value, positive or negative, depending on the direction of the relationship between the variables.\n",
    "   - Formula: \\( \\text{cov}(X, Y) = \\frac{\\sum{(X_i - \\bar{X})(Y_i - \\bar{Y})}}{n-1} \\), where \\(X_i\\) and \\(Y_i\\) are individual data points, \\(\\bar{X}\\) and \\(\\bar{Y}\\) are the means of X and Y, and \\(n\\) is the number of data points.\n",
    "\n",
    "2. Correlation:\n",
    "   - Correlation measures the strength and direction of the linear relationship between two variables. It standardizes the covariance by dividing it by the product of the standard deviations of the variables, resulting in a value between -1 and 1.\n",
    "   - Correlation is dimensionless and scale-invariant, making it easier to interpret and compare across different pairs of variables.\n",
    "   - A correlation coefficient of +1 indicates a perfect positive linear relationship, -1 indicates a perfect negative linear relationship, and 0 indicates no linear relationship.\n",
    "   - Formula: \\( \\text{cor}(X, Y) = \\frac{\\text{cov}(X, Y)}{\\sigma_X \\cdot \\sigma_Y} \\), where \\( \\sigma_X \\) and \\( \\sigma_Y \\) are the standard deviations of X and Y.\n",
    "\n",
    "In statistical analysis:\n",
    "- Covariance is useful for understanding the direction of the relationship between variables and how they change together, but it doesn't provide a standardized measure of the strength of the relationship.\n",
    "- Correlation, on the other hand, provides a standardized measure of the strength and direction of the relationship between variables, making it more interpretable and widely used in statistical analysis, hypothesis testing, and modeling."
   ]
  },
  {
   "cell_type": "markdown",
   "id": "bc07b56e-5647-4c8f-a419-5c25687b7fb2",
   "metadata": {},
   "source": [
    "The formula for calculating the sample mean, denoted as \\( \\bar{x} \\), is the sum of all data points divided by the total number of data points in the dataset.\n",
    "\n",
    "Mathematically, it can be represented as:\n",
    "\n",
    "\\[ \\bar{x} = \\frac{\\sum_{i=1}^{n} x_i}{n} \\]\n",
    "\n",
    "Where:\n",
    "- \\( x_i \\) represents individual data points.\n",
    "- \\( n \\) represents the total number of data points in the dataset.\n",
    "\n",
    "Here's an example calculation for a dataset:\n",
    "\n",
    "Dataset: {10, 15, 20, 25, 30}\n",
    "\n",
    "To find the sample mean, first, sum up all the data points, then divide by the total number of data points:\n",
    "\n",
    "\\[ \\bar{x} = \\frac{10 + 15 + 20 + 25 + 30}{5} \\]\n",
    "\n",
    "\\[ \\bar{x} = \\frac{100}{5} \\]\n",
    "\n",
    "\\[ \\bar{x} = 20 \\]\n",
    "\n",
    "So, the sample mean of the given dataset is 20."
   ]
  },
  {
   "cell_type": "markdown",
   "id": "29a5a122-2e63-4a62-a243-e38c73a39cb1",
   "metadata": {},
   "source": [
    "For a normal distribution, which is symmetric and bell-shaped, the measures of central tendency (mean, median, and mode) are all equal and located at the center of the distribution. In other words, they coincide at the same point.\n",
    "\n",
    "1. Mean: The arithmetic mean represents the average value of the data points. In a normal distribution, the mean is located at the center of the distribution, and the data is evenly distributed around it.\n",
    "\n",
    "2. Median: The median is the middle value of the dataset when it is arranged in ascending or descending order. In a normal distribution, the median is also located at the center of the distribution because of its symmetry.\n",
    "\n",
    "3. Mode: The mode is the most frequently occurring value in the dataset. In a normal distribution, the mode coincides with the mean and median, located at the center of the distribution.\n",
    "\n",
    "Therefore, for a normal distribution, the relationship between its measures of central tendency is that they are all equal and located at the center of the distribution."
   ]
  },
  {
   "cell_type": "markdown",
   "id": "f3f38afe-9dee-4807-b83a-a38d6f6be9f8",
   "metadata": {},
   "source": []
  }
 ],
 "metadata": {
  "kernelspec": {
   "display_name": "Python 3 (ipykernel)",
   "language": "python",
   "name": "python3"
  },
  "language_info": {
   "codemirror_mode": {
    "name": "ipython",
    "version": 3
   },
   "file_extension": ".py",
   "mimetype": "text/x-python",
   "name": "python",
   "nbconvert_exporter": "python",
   "pygments_lexer": "ipython3",
   "version": "3.10.8"
  }
 },
 "nbformat": 4,
 "nbformat_minor": 5
}
